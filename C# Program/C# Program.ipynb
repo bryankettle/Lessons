{
 "cells": [
  {
   "cell_type": "markdown",
   "id": "52fcf5ba",
   "metadata": {},
   "source": [
    "# C# for program creation"
   ]
  },
  {
   "cell_type": "markdown",
   "id": "a53e3a7b",
   "metadata": {},
   "source": [
    "Remember to use the Visual Basic to create and run the program"
   ]
  },
  {
   "cell_type": "markdown",
   "id": "0fb37fd5",
   "metadata": {},
   "source": [
    "## Steps to create a program"
   ]
  },
  {
   "attachments": {},
   "cell_type": "markdown",
   "id": "dd934808",
   "metadata": {},
   "source": [
    "1. Create a project using the **\"Windows Forms App\"**\n",
    "\n",
    "        Note: If you cannot find it, you have to `install the .Net framework on Visual Studio`\n",
    "        \n",
    "2. 🔧This button shows the `Properties` panel. You can edit stuff here like the Form's name, etc. Found in View ➤ solution explorer.\n",
    "3. In the form.cs, you can edit the form using the `toolbox`, You can find it in View ➤ Toolbox\n"
   ]
  },
  {
   "cell_type": "markdown",
   "id": "26c34e97",
   "metadata": {},
   "source": [
    "## Form designs\n",
    "Before you put forms, you can create **containers**. A container Allows you to easily edit layouts in your window.\n",
    "### Types of Containers\n",
    "- **Flow Layout Panel**: A container control that provides dynamically layout for the child controls that can be arranged horizontally or vertically. It allows you to arrange it horizontally or vertically. \n",
    "- **Group Box**: Allows you to highlight the childs by adding a groupbox with the groupbox name on the top. Useful for seperating the childs into groups visually.\n",
    "- **Panel**: One of the major uses I have found for a Panel Control is when you need to show and hide a group of controls. You can easily do it by hiding the entire panel.\n",
    "- **Split Container**: Seperates the form into two. You can seperate it Vertically or Horizontally in the `Properties Tab`\n",
    "\n",
    "- **Tab Control**: Create a tab in your form.\n",
    "- **Table Layout Panel**: Create a layout in a table form. Useful for creating a layout in a table form.\n",
    "\n"
   ]
  },
  {
   "cell_type": "code",
   "execution_count": null,
   "id": "2e6bcd80",
   "metadata": {},
   "outputs": [],
   "source": []
  }
 ],
 "metadata": {
  "kernelspec": {
   "display_name": ".NET (C#)",
   "language": "C#",
   "name": ".net-csharp"
  },
  "language_info": {
   "file_extension": ".cs",
   "mimetype": "text/x-csharp",
   "name": "C#",
   "pygments_lexer": "csharp",
   "version": "8.0"
  }
 },
 "nbformat": 4,
 "nbformat_minor": 5
}

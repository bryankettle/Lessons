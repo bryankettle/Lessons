{
 "cells": [
  {
   "cell_type": "markdown",
   "id": "205d6ed8-fd5f-44c2-9558-8be6af324d4b",
   "metadata": {
    "tags": []
   },
   "source": [
    "# ARGPARSE\n",
    "## Explanation\n",
    "Argparse allows you to create arguments in your code to easily change your programs behaviour. Think of it as the \"settings\" of your program."
   ]
  },
  {
   "cell_type": "markdown",
   "id": "4ffcb395-526d-446b-b343-3cb43a0571dd",
   "metadata": {
    "tags": []
   },
   "source": [
    "## Code\n",
    "Import the required library"
   ]
  },
  {
   "cell_type": "code",
   "execution_count": 7,
   "id": "d1e954d1-2aaa-4eff-a543-8cae0d6ac093",
   "metadata": {},
   "outputs": [],
   "source": [
    "import argparse"
   ]
  },
  {
   "cell_type": "code",
   "execution_count": 9,
   "id": "f12a4cc1-39be-4332-b81a-5ce07935e0d5",
   "metadata": {
    "tags": []
   },
   "outputs": [],
   "source": [
    "def train(args):\n",
    "    print(args.print)\n",
    "    print(args.value)"
   ]
  },
  {
   "cell_type": "markdown",
   "id": "4514f700-75be-41ae-9fb6-7d8d18a571e5",
   "metadata": {},
   "source": [
    "Before you create an argument, you have to initialize a **parser object**"
   ]
  },
  {
   "cell_type": "code",
   "execution_count": 8,
   "id": "e865abe2-7a45-42f9-beb6-b75e254b4cec",
   "metadata": {},
   "outputs": [],
   "source": [
    "parser = argparse.ArgumentParser()"
   ]
  },
  {
   "cell_type": "markdown",
   "id": "291bef9e-f7ee-4212-afce-57bb109088b0",
   "metadata": {},
   "source": [
    "To create an argument, just follow this code structure:"
   ]
  },
  {
   "cell_type": "code",
   "execution_count": 10,
   "id": "5b2c58d2-0f38-4d86-bdcd-d4de087736d4",
   "metadata": {
    "tags": []
   },
   "outputs": [
    {
     "name": "stdout",
     "output_type": "stream",
     "text": [
      "Hello world\n",
      "5\n"
     ]
    }
   ],
   "source": [
    "parser.add_argument('--print', type=str, default='Hello world', help='use this to print a variable')\n",
    "parser.add_argument('--value', type=int, default=5, help='use this store a value')\n",
    "args, unknown = parser.parse_known_args()\n",
    "train(args)"
   ]
  },
  {
   "cell_type": "markdown",
   "id": "b5ac1b49-dac6-4e87-890e-ddcfa476dfc7",
   "metadata": {
    "tags": []
   },
   "source": [
    "**parser.add_argument(argument name, type, default, help)**\n",
    "\n",
    " Variables:\n",
    "  1. Name of the argument, it should start with \"--\". For example: \"--weights\"\n",
    "  2. type is the type of variable, it could be str, int, float, etc.\n",
    "  3. Default is the default value of the variable\n",
    "  4. help is the message given if help command is inputted\n",
    "\n",
    " the full link of variables can be found here: https://docs.python.org/3/library/argparse.html"
   ]
  },
  {
   "cell_type": "markdown",
   "id": "b1bf3a11-317f-4686-8932-8b689bbfb3a5",
   "metadata": {},
   "source": [
    "Almost done! Now to pass it to your function, just pass it as a regular variable."
   ]
  }
 ],
 "metadata": {
  "kernelspec": {
   "display_name": "Python 3 (ipykernel)",
   "language": "python",
   "name": "python3"
  },
  "language_info": {
   "codemirror_mode": {
    "name": "ipython",
    "version": 3
   },
   "file_extension": ".py",
   "mimetype": "text/x-python",
   "name": "python",
   "nbconvert_exporter": "python",
   "pygments_lexer": "ipython3",
   "version": "3.11.1"
  }
 },
 "nbformat": 4,
 "nbformat_minor": 5
}
